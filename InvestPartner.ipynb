{
 "cells": [
  {
   "cell_type": "markdown",
   "id": "b7ea7aca",
   "metadata": {},
   "source": [
    "# Invest Partner - Seu parceiro de Investimentos"
   ]
  },
  {
   "cell_type": "code",
   "execution_count": null,
   "id": "55c37f3b",
   "metadata": {},
   "outputs": [],
   "source": []
  },
  {
   "cell_type": "markdown",
   "id": "64b8ae52",
   "metadata": {},
   "source": [
    "### Imports e APIKey"
   ]
  },
  {
   "cell_type": "code",
   "execution_count": 1,
   "id": "8b14ca3c",
   "metadata": {},
   "outputs": [],
   "source": [
    "import openai\n",
    "from dotenv import load_dotenv, find_dotenv"
   ]
  },
  {
   "cell_type": "code",
   "execution_count": 2,
   "id": "acf365c2",
   "metadata": {},
   "outputs": [],
   "source": [
    "_ = load_dotenv(find_dotenv())\n",
    "\n",
    "client = openai.Client()"
   ]
  },
  {
   "cell_type": "markdown",
   "id": "e78c7865",
   "metadata": {},
   "source": [
    "### Geração de mensagens"
   ]
  },
  {
   "cell_type": "code",
   "execution_count": 3,
   "id": "f4c8dde6",
   "metadata": {},
   "outputs": [],
   "source": [
    "def geracao_texto(mensagens):\n",
    "    resposta = client.chat.completions.create(\n",
    "        messages=mensagens,\n",
    "        model='gpt-3.5-turbo-0125',\n",
    "        temperature=0,\n",
    "        max_tokens=1000,\n",
    "        stream=True,\n",
    "    )\n",
    "\n",
    "    print('Assistant: ', end='')\n",
    "    texto_completo = ''\n",
    "    for resposta_stream in resposta:\n",
    "        texto = resposta_stream.choices[0].delta.content\n",
    "        if texto:\n",
    "            print(texto, end='')\n",
    "            texto_completo += texto\n",
    "    print()\n",
    "    \n",
    "    mensagens.append({'role': 'assistant', 'content': texto_completo})\n",
    "    return mensagens"
   ]
  },
  {
   "cell_type": "markdown",
   "id": "9799f96f",
   "metadata": {},
   "source": [
    "### Chat"
   ]
  },
  {
   "cell_type": "code",
   "execution_count": null,
   "id": "8ad43aff",
   "metadata": {},
   "outputs": [
    {
     "name": "stdout",
     "output_type": "stream",
     "text": [
      "Olá, Seja bem-vindo ao Invest Partner, o seu parceiro de Investimentos :)\n",
      "User: Olá, boa tarde\n",
      "Assistant: Boa tarde! Como posso ajudar você hoje?\n"
     ]
    }
   ],
   "source": [
    "if __name__ == '__main__':\n",
    "\n",
    "    print('Olá, Seja bem-vindo ao Invest Partner, o seu parceiro de Investimentos :)')\n",
    "    mensagens = []\n",
    "    while True:\n",
    "        input_usuario = input('User: ')\n",
    "        mensagens.append({'role': 'user', 'content': input_usuario})\n",
    "        mensagens = geracao_texto(mensagens)"
   ]
  },
  {
   "cell_type": "code",
   "execution_count": null,
   "id": "a2e85156",
   "metadata": {},
   "outputs": [],
   "source": []
  }
 ],
 "metadata": {
  "kernelspec": {
   "display_name": "Python 3 (ipykernel)",
   "language": "python",
   "name": "python3"
  },
  "language_info": {
   "codemirror_mode": {
    "name": "ipython",
    "version": 3
   },
   "file_extension": ".py",
   "mimetype": "text/x-python",
   "name": "python",
   "nbconvert_exporter": "python",
   "pygments_lexer": "ipython3",
   "version": "3.11.5"
  }
 },
 "nbformat": 4,
 "nbformat_minor": 5
}
