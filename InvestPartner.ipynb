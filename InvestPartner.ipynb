{
 "cells": [
  {
   "cell_type": "markdown",
   "id": "b7ea7aca",
   "metadata": {},
   "source": [
    "# Invest Partner - Seu parceiro de Investimentos"
   ]
  },
  {
   "cell_type": "markdown",
   "id": "64b8ae52",
   "metadata": {},
   "source": [
    "### Imports e APIKey"
   ]
  },
  {
   "cell_type": "code",
   "execution_count": 1,
   "id": "8b14ca3c",
   "metadata": {},
   "outputs": [],
   "source": [
    "import openai\n",
    "import time\n",
    "from dotenv import load_dotenv, find_dotenv\n",
    "import json\n",
    "import yfinance as yf"
   ]
  },
  {
   "cell_type": "raw",
   "id": "e0157a73",
   "metadata": {},
   "source": [
    "from openai import OpenAI"
   ]
  },
  {
   "cell_type": "code",
   "execution_count": 2,
   "id": "acf365c2",
   "metadata": {},
   "outputs": [],
   "source": [
    "_ = load_dotenv(find_dotenv())\n",
    "\n",
    "client = openai.Client()"
   ]
  },
  {
   "cell_type": "markdown",
   "id": "652220ce",
   "metadata": {},
   "source": [
    "# Funções e Tools"
   ]
  },
  {
   "cell_type": "code",
   "execution_count": 3,
   "id": "d8bab6d5",
   "metadata": {},
   "outputs": [],
   "source": [
    "def retorna_cotacao_acao_historica(\n",
    "        ticker,\n",
    "        periodo='1mo'\n",
    "):\n",
    "    \n",
    "    ticker = yf.Ticker(ticker)\n",
    "    hist = ticker.history(period=periodo)['Close']\n",
    "    hist.index = hist.index.strftime('%Y-%m-%d')  # Formata o índice do DataFrame hist para strings no formato 'AAAA-MM-DD'.\n",
    "    hist = round(hist, 2)   \n",
    "    \n",
    "    # Verifica se o DataFrame tem mais de 30 registros. Se tiver,  calcula um slice_size (tamanho fatia) dividindo por 30.\n",
    "    # E reduz tamanho pegando um registro a cada slice_size, começando do final e revertendo para manter na sequência original.\n",
    "    \n",
    "    if len(hist) > 30:\n",
    "        slice_size = int(len(hist) / 30)\n",
    "        hist = hist.iloc[::-slice_size][::-1]\n",
    "    \n",
    "        \n",
    "    return hist.to_json() # Passar como dicionario, e não como DF\n",
    "\n",
    "\n",
    "\n",
    "\n",
    "\n",
    "\n",
    "def retorna_info(ticker):\n",
    "    \n",
    "    ticker = yf.Ticker(ticker)\n",
    "    info = str(ticker.info)\n",
    "        \n",
    "    return info\n",
    "\n",
    "\n",
    "\n",
    "\n",
    "def retorna_metadados(ticker, periodo):\n",
    "    \n",
    "    ticker = yf.Ticker(ticker)\n",
    "    hist = ticker.history(period=periodo)\n",
    "    metadados = str(ticker.history_metadata)\n",
    "        \n",
    "    return metadados\n",
    "\n",
    "\n",
    "\n",
    "\n",
    "\n",
    "def retorna_noticias(ticker):\n",
    "    ticker = yf.Ticker(ticker)\n",
    "    noticias = str(ticker.news)\n",
    "    \n",
    "    return noticias\n",
    "\n",
    "\n",
    "\n",
    "\n",
    "def retorna_desdobramentos(ticker):\n",
    "    ticker = yf.Ticker(ticker)\n",
    "    desdobramentos = ticker.splits\n",
    "    \n",
    "    return desdobramentos.to_json()\n",
    "\n"
   ]
  },
  {
   "cell_type": "code",
   "execution_count": 4,
   "id": "17a78993",
   "metadata": {},
   "outputs": [],
   "source": [
    "# Mapeando função\n",
    "funcoes_disponiveis = {'retorna_cotacao_acao_historica': retorna_cotacao_acao_historica,\n",
    "                      'retorna_info': retorna_info,\n",
    "                      'retorna_metadados': retorna_metadados,\n",
    "                       'retorna_noticias': retorna_noticias,\n",
    "                       'retorna_desdobramentos': retorna_desdobramentos\n",
    "                      }"
   ]
  },
  {
   "cell_type": "markdown",
   "id": "1870289c",
   "metadata": {},
   "source": [
    "### Tools"
   ]
  },
  {
   "cell_type": "code",
   "execution_count": 5,
   "id": "bf2f0f85",
   "metadata": {},
   "outputs": [],
   "source": [
    "tools = [\n",
    "    {\n",
    "        'type': 'function',\n",
    "        'function': {\n",
    "            'name': 'retorna_cotacao_acao_historica',\n",
    "            'description': 'Retorna a cotação diária histórica para uma ação da bovespa',\n",
    "            'parameters': {\n",
    "                'type': 'object',\n",
    "                'properties': {\n",
    "                    'ticker': {\n",
    "                        'type': 'string',\n",
    "                        'description': 'O ticker da ação. Exemplo: \"ABEV3.SA\" para ambev, \"PETR4.SA\" para petrobras, etc'\n",
    "                    },\n",
    "                    'periodo': {\n",
    "                        'type': 'string',\n",
    "                        'description': 'O período que será retornado de dados históriocos \\\n",
    "                                        sendo \"1mo\" equivalente a um mês de dados, \"1d\" a \\\n",
    "                                        1 dia e \"1y\" a 1 ano',\n",
    "                        'enum': [\"1d\",\"5d\",\"1mo\",\"6mo\",\"1y\",\"5y\",\"10y\",\"ytd\",\"max\"]  # API so aceita esses dias\n",
    "                    }\n",
    "                }\n",
    "            }\n",
    "        }\n",
    "    },\n",
    "    \n",
    "    \n",
    "    \n",
    "    \n",
    "    \n",
    "     {\n",
    "        'type': 'function',\n",
    "        'function': {\n",
    "            'name': 'retorna_info',\n",
    "            'description': 'Retorna informações gerais sobre uma ação, incluindo uma variedade de dados, \\\n",
    "            como o nome da empresa, setor da indústria, descrição da empresa, país de origem, e mais. É útil para obter \\\n",
    "            uma visão geral rápida e detalhes básicos sobre a empresa associada ao ticker fornecido.',\n",
    "            'parameters': {\n",
    "                'type': 'object',\n",
    "                'properties': {\n",
    "                    'ticker': {\n",
    "                        'type': 'string',\n",
    "                        'description': 'O ticker da ação. Exemplo: \"ABEV3.SA\" para ambev, \"PETR4.SA\" para petrobras, etc'\n",
    "                    }\n",
    "                }\n",
    "            }\n",
    "        }\n",
    "    },\n",
    "    \n",
    "    \n",
    "    {\n",
    "        'type': 'function',\n",
    "        'function': {\n",
    "            'name': 'retorna_metadados',\n",
    "            'description': 'Fornece informações, de acordo com a data fornecida, sobre os dados históricos disponíveis para \\\n",
    "            uma ação, incluindo o intervalo de datas disponíveis, os tipos de preços incluídos  (como abertura, fechamento, \\\n",
    "            máximos, mínimos e volume), divisões de ações, ajustes de dividendos e outros eventos corporativos relevantes. \\\n",
    "            Essas informações são úteis para entender a qualidade e o escopo dos dados históricos disponíveis.',\n",
    "            'parameters': {\n",
    "                'type': 'object',\n",
    "                'properties': {\n",
    "                    'ticker': {\n",
    "                        'type': 'string',\n",
    "                        'description': 'O ticker da ação. Exemplo: \"ABEV3.SA\" para ambev, \"PETR4.SA\" para petrobras, etc'\n",
    "                    },\n",
    "                    'periodo': {\n",
    "                        'type': 'string',\n",
    "                        'description': 'O período que será retornado de dados históriocos \\\n",
    "                                        sendo \"1mo\" equivalente a um mês de dados, \"1d\" a \\\n",
    "                                        1 dia e \"1y\" a 1 ano',\n",
    "                        'enum': [\"1d\",\"5d\",\"1mo\",\"6mo\",\"1y\",\"5y\",\"10y\",\"ytd\",\"max\"]  # API so aceita esses dias\n",
    "                    }\n",
    "                }\n",
    "            }\n",
    "        }\n",
    "    },\n",
    "    \n",
    "    \n",
    "\n",
    "    \n",
    "    \n",
    "    \n",
    "    \n",
    "    {\n",
    "        'type': 'function',\n",
    "        'function': {\n",
    "            'name': 'retorna_noticias',\n",
    "            'description': 'retorna uma lista de notícias recentes relacionadas à empresa. Ele fornece manchetes, datas e links para artigos sobre a empresa cujas ações são negociadas na bolsa',\n",
    "            'parameters': {\n",
    "                'type': 'object',\n",
    "                'properties': {\n",
    "                    'ticker': {\n",
    "                        'type': 'string',\n",
    "                        'description': 'O ticker da ação. Exemplo: \"ABEV3.SA\" para ambev, \"PETR4.SA\" para petrobras, etc'\n",
    "                    }\n",
    "                }\n",
    "            }\n",
    "        }\n",
    "    },\n",
    "    \n",
    "    \n",
    "    {\n",
    "        'type': 'function',\n",
    "        'function': {\n",
    "            'name': 'retorna_desdobramentos',\n",
    "            'description': 'retorna uma série temporal contendo os históricos de desdobramentos (splits) de ações de uma empresa. Ele fornece as datas e as razões dos splits ocorridos ao longo do tempo para uma determinada ação listada na bolsa.',\n",
    "            'parameters': {\n",
    "                'type': 'object',\n",
    "                'properties': {\n",
    "                    'ticker': {\n",
    "                        'type': 'string',\n",
    "                        'description': 'O ticker da ação. Exemplo: \"ABEV3.SA\" para ambev, \"PETR4.SA\" para petrobras, etc'\n",
    "                    }\n",
    "                }\n",
    "            }\n",
    "        }\n",
    "    },\n",
    "    \n",
    "    \n",
    "    {'type': 'code_interpreter'}\n",
    "    \n",
    "    \n",
    "]\n"
   ]
  },
  {
   "cell_type": "code",
   "execution_count": null,
   "id": "e18c2d09",
   "metadata": {},
   "outputs": [],
   "source": []
  },
  {
   "cell_type": "markdown",
   "id": "7e2d3140",
   "metadata": {},
   "source": [
    "# Fine Tuning"
   ]
  },
  {
   "cell_type": "markdown",
   "id": "90f3eae3",
   "metadata": {},
   "source": [
    "\n",
    "import json\n",
    "\n",
    "with open('chatbot_respostas.json', encoding=\"utf8\") as f:\n",
    "    json_respostas = json.load(f)\n"
   ]
  },
  {
   "cell_type": "raw",
   "id": "ef3294f7",
   "metadata": {},
   "source": [
    "'''\n",
    "# Cria o arquivo Jsonl em modo de escrita ('w') com UTF-8 e atribui o objeto de arquivo resultante à variável f\n",
    "with open('chatbot_respostas.jsonl', 'w', encoding=\"utf8\") as f:  \n",
    "    for entrada in json_respostas:  # Itera em cada linha e cria um dicionário (resposta) com as chaves 'resposta', 'categoria' e 'fonte'. \n",
    "        resposta = {                # Os valores correspondentes são atribuidos.\n",
    "            'resposta': entrada['resposta']} \n",
    "        \n",
    "        \n",
    "        # Cria um dicionário (entrada_jsonl), com lista de mensagens (um dicionário com um role e content. \n",
    "        # O papel pode ser 'user' ou 'assistant'. O conteúdo é a resposta convertida em JSON usando json.dumps().\n",
    "        \n",
    "        entrada_jsonl = {  # Mapeia as respostas em formato de mensagem\n",
    "            'messages': [\n",
    "                {'role': 'user', 'content': entrada['pergunta']},\n",
    "                {'role': 'assistant', 'content': json.dumps(resposta, ensure_ascii=False, indent=2)}\n",
    "            ]\n",
    "        }\n",
    "        \n",
    "        # Escreve a entrada JSONL atual (entrada_jsonl) no arquivo f usando json.dump(). \n",
    "        json.dump(entrada_jsonl, f, ensure_ascii=False)\n",
    "        \n",
    "        f.write('\\n')   # Escreve uma nova linha no arquivo f. Separa cada entrada JSONL em linhas distintas.\n",
    "'''"
   ]
  },
  {
   "cell_type": "code",
   "execution_count": null,
   "id": "f3e0a2cb",
   "metadata": {},
   "outputs": [],
   "source": []
  },
  {
   "cell_type": "code",
   "execution_count": null,
   "id": "1b712f8b",
   "metadata": {},
   "outputs": [],
   "source": []
  },
  {
   "cell_type": "code",
   "execution_count": null,
   "id": "2b0550e4",
   "metadata": {},
   "outputs": [],
   "source": []
  },
  {
   "cell_type": "code",
   "execution_count": 6,
   "id": "f072c4c8",
   "metadata": {},
   "outputs": [],
   "source": [
    "assistant_id = \"asst_D72a8kRFXV99YSw4x8zKxS1Z\""
   ]
  },
  {
   "cell_type": "raw",
   "id": "b1d13b5d",
   "metadata": {},
   "source": [
    "assistant = client.beta.assistants.create(\n",
    "  name=\"Assistente Financeiro\",\n",
    "  instructions=\"Você é um assistente pessoal de investimentos especializado na área de ações da bolsa de valores do Brasil. \\\n",
    "                  Sua função é responder perguntas dos usuários relacionadas ao mercado de ações brasileiro. Utilize as \\\n",
    "                  ferramentas e funções disponíveis, juntamente com a API Yfinance, para fornecer respostas precisas e \\\n",
    "                  relevantes. Certifique-se de oferecer informações atualizadas e insights úteis para auxiliar os usuários em \\\n",
    "                  suas decisões de investimento. Priorize a clareza e a precisão em suas respostas, garantindo uma experiência \\\n",
    "                  satisfatória para os usuários que buscam orientação no mercado de ações brasileiro.\",\n",
    "  #model=\"gpt-4o\",\n",
    "  model = \"gpt-3.5-turbo-0125\",\n",
    "  tools=tools\n",
    ")"
   ]
  },
  {
   "cell_type": "code",
   "execution_count": 7,
   "id": "452e0b03",
   "metadata": {},
   "outputs": [],
   "source": [
    "thread = client.beta.threads.create()"
   ]
  },
  {
   "cell_type": "raw",
   "id": "f91651ea",
   "metadata": {},
   "source": []
  },
  {
   "cell_type": "code",
   "execution_count": 8,
   "id": "8026db24",
   "metadata": {},
   "outputs": [],
   "source": [
    "def gera_resposta(mensagens):\n",
    "    \n",
    "\n",
    "    message = client.beta.threads.messages.create(\n",
    "        thread_id=thread.id,\n",
    "        role='user',\n",
    "        content = mensagens\n",
    "    )\n",
    "\n",
    "    run = client.beta.threads.runs.create(\n",
    "        thread_id=thread.id,\n",
    "        assistant_id=assistant_id,\n",
    "        instructions='Seja breve e conciso na resposta'  # Se tivesse privilegios Premuim, concederia.\n",
    "    )\n",
    "\n",
    "\n",
    "    while run.status in ['queued', 'in_progress', 'cancelling']:\n",
    "        time.sleep(1)\n",
    "        run = client.beta.threads.runs.retrieve(\n",
    "            thread_id=thread.id,\n",
    "            run_id=run.id\n",
    "        )\n",
    "\n",
    "\n",
    "    if run.status == 'completed':\n",
    "        messages = client.beta.threads.messages.list(\n",
    "        thread_id=thread.id\n",
    "      )\n",
    "        print(messages)\n",
    "\n",
    "\n",
    "    tool_outputs = []\n",
    "\n",
    "    tool_calls = run.required_action.submit_tool_outputs.tool_calls\n",
    "\n",
    "    if tool_calls:\n",
    "        for tool in tool_calls:\n",
    "            func_name = tool.function.name\n",
    "            function_to_call = funcoes_disponiveis[func_name]\n",
    "            func_args = json.loads(tool.function.arguments)\n",
    "            func_return = function_to_call(**func_args)  # Passa todos os parametros do 'func_args', para a function_to_call\n",
    "            tool_outputs.append({\n",
    "                'tool_call_id': tool.id,\n",
    "                'output': func_return\n",
    "            })\n",
    "\n",
    "\n",
    "    # Submit all tool outputs at once after collecting them in a list\n",
    "    if tool_outputs:\n",
    "        try:\n",
    "            run = client.beta.threads.runs.submit_tool_outputs_and_poll(\n",
    "            thread_id=thread.id,\n",
    "            run_id=run.id,\n",
    "            tool_outputs=tool_outputs\n",
    "        )\n",
    "        except Exception as e:\n",
    "            print(\"Failed to submit tool outputs:\", e)\n",
    "\n",
    "    if run.status == 'completed':\n",
    "        messages = client.beta.threads.messages.list(\n",
    "        thread_id=thread.id\n",
    "      )\n",
    "        print(messages.data[0].content[0].text.value) \n",
    "    else:\n",
    "        print(run.status)\n"
   ]
  },
  {
   "cell_type": "markdown",
   "id": "9799f96f",
   "metadata": {},
   "source": [
    "### Chat"
   ]
  },
  {
   "cell_type": "code",
   "execution_count": 9,
   "id": "8ad43aff",
   "metadata": {},
   "outputs": [
    {
     "name": "stdout",
     "output_type": "stream",
     "text": [
      "Olá, Seja bem-vindo ao Invest Partner, o seu parceiro de Investimentos :)\n",
      "User: cotação atual petr4\n",
      "A cotação atual da ação PETR4 é de R$ 35,82.\n"
     ]
    },
    {
     "name": "stderr",
     "output_type": "stream",
     "text": [
      "\n",
      "KeyboardInterrupt\n",
      "\n"
     ]
    }
   ],
   "source": [
    "if __name__ == '__main__':\n",
    "\n",
    "    print('Olá, Seja bem-vindo ao Invest Partner, o seu parceiro de Investimentos :)')\n",
    "    while True:\n",
    "        input_usuario = input('User: ')\n",
    "        mensagens = gera_resposta(input_usuario)"
   ]
  },
  {
   "cell_type": "code",
   "execution_count": null,
   "id": "d667f5c9",
   "metadata": {},
   "outputs": [],
   "source": []
  },
  {
   "cell_type": "code",
   "execution_count": null,
   "id": "3e328410",
   "metadata": {},
   "outputs": [],
   "source": []
  }
 ],
 "metadata": {
  "kernelspec": {
   "display_name": "Python 3 (ipykernel)",
   "language": "python",
   "name": "python3"
  },
  "language_info": {
   "codemirror_mode": {
    "name": "ipython",
    "version": 3
   },
   "file_extension": ".py",
   "mimetype": "text/x-python",
   "name": "python",
   "nbconvert_exporter": "python",
   "pygments_lexer": "ipython3",
   "version": "3.11.5"
  }
 },
 "nbformat": 4,
 "nbformat_minor": 5
}
