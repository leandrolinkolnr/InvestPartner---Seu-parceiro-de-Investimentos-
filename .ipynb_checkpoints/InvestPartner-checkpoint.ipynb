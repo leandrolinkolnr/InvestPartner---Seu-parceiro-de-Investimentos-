{
 "cells": [
  {
   "cell_type": "markdown",
   "id": "b7ea7aca",
   "metadata": {},
   "source": [
    "# Invest Partner - Seu parceiro de Investimentos"
   ]
  },
  {
   "cell_type": "code",
   "execution_count": null,
   "id": "55c37f3b",
   "metadata": {},
   "outputs": [],
   "source": []
  },
  {
   "cell_type": "markdown",
   "id": "64b8ae52",
   "metadata": {},
   "source": [
    "### Imports e APIKey"
   ]
  },
  {
   "cell_type": "code",
   "execution_count": 1,
   "id": "8b14ca3c",
   "metadata": {},
   "outputs": [],
   "source": [
    "import openai\n",
    "from dotenv import load_dotenv, find_dotenv\n",
    "import json\n",
    "import yfinance as yf"
   ]
  },
  {
   "cell_type": "code",
   "execution_count": 2,
   "id": "acf365c2",
   "metadata": {},
   "outputs": [],
   "source": [
    "_ = load_dotenv(find_dotenv())\n",
    "\n",
    "client = openai.Client()"
   ]
  },
  {
   "cell_type": "markdown",
   "id": "652220ce",
   "metadata": {},
   "source": [
    "# Funções e Tools"
   ]
  },
  {
   "cell_type": "code",
   "execution_count": 3,
   "id": "d8bab6d5",
   "metadata": {},
   "outputs": [],
   "source": [
    "def retorna_cotacao_acao_historica(\n",
    "        ticker,\n",
    "        periodo='1mo'\n",
    "):\n",
    "    \n",
    "    ticker = yf.Ticker(ticker)\n",
    "    hist = ticker.history(period=periodo)['Close']\n",
    "    hist.index = hist.index.strftime('%Y-%m-%d')  # Formata o índice do DataFrame hist para strings no formato 'AAAA-MM-DD'.\n",
    "    hist = round(hist, 2)   \n",
    "    \n",
    "    # Verifica se o DataFrame tem mais de 30 registros. Se tiver,  calcula um slice_size (tamanho fatia) dividindo por 30.\n",
    "    # E reduz tamanho pegando um registro a cada slice_size, começando do final e revertendo para manter na sequência original.\n",
    "    \n",
    "    if len(hist) > 30:\n",
    "        slice_size = int(len(hist) / 30)\n",
    "        hist = hist.iloc[::-slice_size][::-1]\n",
    "        \n",
    "    return hist.to_json() # Passar como dicionario, e não como DF\n",
    "\n",
    "\n",
    "\n",
    "# Mapeando função\n",
    "funcoes_disponiveis = {'retorna_cotacao_acao_historica': retorna_cotacao_acao_historica}"
   ]
  },
  {
   "cell_type": "markdown",
   "id": "1870289c",
   "metadata": {},
   "source": [
    "### Tools"
   ]
  },
  {
   "cell_type": "code",
   "execution_count": 4,
   "id": "bf2f0f85",
   "metadata": {},
   "outputs": [],
   "source": [
    "tools = [\n",
    "    {\n",
    "        'type': 'function',\n",
    "        'function': {\n",
    "            'name': 'retorna_cotacao_acao_historica',\n",
    "            'description': 'Retorna a cotação diária histórica para uma ação da bovespa',\n",
    "            'parameters': {\n",
    "                'type': 'object',\n",
    "                'properties': {\n",
    "                    'ticker': {\n",
    "                        'type': 'string',\n",
    "                        'description': 'O ticker da ação. Exemplo: \"ABEV3.SA\" para ambev, \"PETR4.SA\" para petrobras, etc'\n",
    "                    },\n",
    "                    'periodo': {\n",
    "                        'type': 'string',\n",
    "                        'description': 'O período que será retornado de dados históriocos \\\n",
    "                                        sendo \"1mo\" equivalente a um mês de dados, \"1d\" a \\\n",
    "                                        1 dia e \"1y\" a 1 ano',\n",
    "                        'enum': [\"1d\",\"5d\",\"1mo\",\"6mo\",\"1y\",\"5y\",\"10y\",\"ytd\",\"max\"]  # API aceita somente esses dias\n",
    "                    }\n",
    "                }\n",
    "            }\n",
    "        }\n",
    "    }\n",
    "\n",
    "]\n"
   ]
  },
  {
   "cell_type": "markdown",
   "id": "e78c7865",
   "metadata": {},
   "source": [
    "### Geração de mensagens"
   ]
  },
  {
   "cell_type": "code",
   "execution_count": 5,
   "id": "f4c8dde6",
   "metadata": {},
   "outputs": [],
   "source": [
    "def gera_resposta(mensagens):\n",
    "    resposta = client.chat.completions.create(\n",
    "        messages=mensagens,\n",
    "        model=\"gpt-3.5-turbo-0125\",\n",
    "        max_tokens=1000,\n",
    "        tools=tools,\n",
    "        tool_choice='auto'\n",
    "        #stream=True,\n",
    "    )\n",
    "    \n",
    "    tool_calls = resposta.choices[0].message.tool_calls\n",
    "\n",
    "    if tool_calls:\n",
    "        mensagens.append(resposta.choices[0].message)\n",
    "        for tool_call in tool_calls:\n",
    "            func_name = tool_call.function.name\n",
    "            function_to_call = funcoes_disponiveis[func_name]\n",
    "            func_args = json.loads(tool_call.function.arguments)\n",
    "            func_return = function_to_call(**func_args)  # Passa todos os parametros do 'func_args', para a function_to_call\n",
    "            mensagens.append({\n",
    "                'tool_call_id': tool_call.id,\n",
    "                'role': 'tool',\n",
    "                'name': func_name,\n",
    "                'content': func_return\n",
    "            })\n",
    "            \n",
    "        segunda_resposta = client.chat.completions.create(\n",
    "            messages=mensagens,\n",
    "            model=\"gpt-3.5-turbo-0125\",   \n",
    "        )\n",
    "        mensagens.append(segunda_resposta.choices[0].message)\n",
    "    \n",
    "        print(f'Assistant: {mensagens[-1].content}') \n",
    "    \n",
    "    \n",
    "    \n",
    "    \n",
    "    \n",
    "    \n",
    "     # Responder dinamicamente, porem com problema na quebra de linha \n",
    "    \n",
    "        '''\n",
    "        print(\"Assistant: \", end='')   \n",
    "    \n",
    "        msg = mensagens[-1].content.split(\" \")\n",
    "    \n",
    "        for caractere in msg:\n",
    "            print(caractere, end='')\n",
    "            print(\" \", end='') \n",
    "            time.sleep(0.1)\n",
    "        '''\n",
    "\n",
    "        \n",
    "    \n",
    "    \n",
    "    return mensagens\n"
   ]
  },
  {
   "cell_type": "markdown",
   "id": "9799f96f",
   "metadata": {},
   "source": [
    "### Chat"
   ]
  },
  {
   "cell_type": "code",
   "execution_count": null,
   "id": "8ad43aff",
   "metadata": {},
   "outputs": [],
   "source": [
    "if __name__ == '__main__':\n",
    "\n",
    "    print('Olá, Seja bem-vindo ao Invest Partner, o seu parceiro de Investimentos :)')\n",
    "    mensagens = []\n",
    "    while True:\n",
    "        input_usuario = input('User: ')\n",
    "        mensagens.append({'role': 'user', 'content': input_usuario})\n",
    "        mensagens = gera_resposta(mensagens)"
   ]
  },
  {
   "cell_type": "code",
   "execution_count": null,
   "id": "a2e85156",
   "metadata": {},
   "outputs": [],
   "source": []
  }
 ],
 "metadata": {
  "kernelspec": {
   "display_name": "Python 3 (ipykernel)",
   "language": "python",
   "name": "python3"
  },
  "language_info": {
   "codemirror_mode": {
    "name": "ipython",
    "version": 3
   },
   "file_extension": ".py",
   "mimetype": "text/x-python",
   "name": "python",
   "nbconvert_exporter": "python",
   "pygments_lexer": "ipython3",
   "version": "3.11.5"
  }
 },
 "nbformat": 4,
 "nbformat_minor": 5
}
